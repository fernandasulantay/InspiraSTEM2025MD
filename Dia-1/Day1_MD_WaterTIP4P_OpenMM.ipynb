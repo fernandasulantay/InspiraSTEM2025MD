{
  "cells": [
    {
      "cell_type": "markdown",
      "metadata": {
        "id": "FFFpRK9Fpcq2"
      },
      "source": [
        "**Dinámica Molecular del Agua usando TIP4P en OpenMM**"
      ]
    },
    {
      "cell_type": "markdown",
      "metadata": {
        "id": "IV147__hpsT4"
      },
      "source": [
        "**1. Instalar dependencias**"
      ]
    },
    {
      "cell_type": "code",
      "execution_count": null,
      "metadata": {
        "id": "y7TpagrD6k4k"
      },
      "outputs": [],
      "source": [
        "# Install conda (via mamba)\n",
        "!pip install -q condacolab\n",
        "import condacolab\n",
        "condacolab.install()"
      ]
    },
    {
      "cell_type": "code",
      "execution_count": null,
      "metadata": {
        "id": "UlcAQCm4630y"
      },
      "outputs": [],
      "source": [
        "# Install OpenMM and OpenMMTools using mamba\n",
        "!mamba install -c conda-forge openmm openmmtools --quiet"
      ]
    },
    {
      "cell_type": "code",
      "execution_count": null,
      "metadata": {
        "id": "ZThrII--ZdQS"
      },
      "outputs": [],
      "source": [
        "!pip install --quiet nglview parmed mdanalysis"
      ]
    },
    {
      "cell_type": "markdown",
      "metadata": {
        "id": "Vh7_KettpzIE"
      },
      "source": [
        "**2. Importar librerías necesarias**"
      ]
    },
    {
      "cell_type": "code",
      "execution_count": null,
      "metadata": {
        "id": "pqJK9iIIpqMK"
      },
      "outputs": [],
      "source": [
        "# OpenMM Libraries\n",
        "import openmm\n",
        "from openmm import unit, LangevinIntegrator, Platform, MonteCarloBarostat, XmlSerializer\n",
        "from openmm.app import Simulation, PDBReporter, StateDataReporter, ForceField, PME, HBonds, DCDReporter, PDBFile\n",
        "\n",
        "# OpenMMTools Libraries\n",
        "from openmmtools.testsystems import WaterBox\n",
        "\n",
        "# Analysis and Visualization Libraries\n",
        "import numpy as np\n",
        "import matplotlib.pyplot as plt\n",
        "from sys import stdout\n",
        "\n",
        "# Additional Libraries (if needed, for file operations and time)\n",
        "import time\n",
        "import os\n",
        "\n",
        "# MDAnalysis libraries\n",
        "import MDAnalysis as mda\n",
        "from MDAnalysis.analysis import rdf\n",
        "#from MDAnalysis.coordinates.PDB import PDBWrite"
      ]
    },
    {
      "cell_type": "markdown",
      "metadata": {
        "id": "ZfUtAgcavS8G"
      },
      "source": [
        "# **Inicialización y Definición del sistema**"
      ]
    },
    {
      "cell_type": "markdown",
      "metadata": {
        "id": "zcwYp9SYp5lG"
      },
      "source": [
        "**3. Crear una caja de agua (TIP4P)**\n",
        "\n",
        "TIP4P es un modelo rígido de agua de 4 sitios, usado frecuentemente por su precisión"
      ]
    },
    {
      "cell_type": "code",
      "execution_count": null,
      "metadata": {
        "id": "-Zt4YmVm6LEA"
      },
      "outputs": [],
      "source": [
        "# Crear una caja de agua TIP4P-Ew\n",
        "waterbox = WaterBox(model='tip4pew', box_edge=3.0*unit.nanometers)\n",
        "\n",
        "# El sistema y las posiciones iniciales están fácilmente disponibles.\n",
        "system = waterbox.system\n",
        "positions = waterbox.positions\n"
      ]
    },
    {
      "cell_type": "markdown",
      "metadata": {
        "id": "zxHlky0dyGJ8"
      },
      "source": [
        "# **Explicación:**"
      ]
    },
    {
      "cell_type": "markdown",
      "metadata": {
        "id": "OvLDmK3lvcp3"
      },
      "source": [
        "Esta línea crea una caja cúbica llena de moléculas de agua, usando la clase WaterBox de la librería **openmmtools.testsystems**. Este objeto waterbox contiene:\n",
        "\n",
        "* El sistema molecular (waterbox.system)\n",
        "* Las posiciones iniciales de todos los átomos (waterbox.positions)\n",
        "* La topología del sistema\n",
        "\n",
        "**WaterBox()**\n",
        "*Es una clase que genera automáticamente un sistema con moléculas de agua en una caja cúbica. Es útil para hacer simulaciones rápidas de equilibrio de agua o como base para otros sistemas más complejos.*\n",
        "\n",
        "**model='tip4pew'**\n",
        "*Este argumento indica qué modelo de agua usar.*\n",
        "\n",
        "¿Qué es un campo de fuerza (force field)?\n",
        "*Un campo de fuerza define las reglas físicas del sistema:*\n",
        "\n",
        "* Cómo se comportan los enlaces\n",
        "* Cómo interactúan los átomos (fuerzas, potenciales)\n",
        "* Parámetros como cargas, radios, etc.\n",
        "\n",
        "¿Por qué TIP4P-Ew?\n",
        "\n",
        "*Es una versión del modelo TIP4P diseñada para funcionar bien con electrostática tratada con el método Ewald (PME). Existen otros modelos como 'tip3p', 'tip4p', 'spce', etc.*\n",
        "\n",
        "*Representa el agua con 4 sitios: 3 átomos reales (O, H, H) y un cuarto punto de carga negativa que mejora el momento dipolar.*\n",
        "\n",
        "*Tiene mejor precisión en propiedades físicas como densidad, punto de fusión, y comportamiento dieléctrico en comparación con modelos más simples como SPC o TIP3P.*\n",
        "\n",
        "**box_edge=3.0*unit.nanometers**\n",
        "*Este argumento define el tamaño del lado de la caja cúbica.*\n",
        "\n",
        "En este caso, estás creando una caja de 3.0 × 3.0 × 3.0 nanómetros cúbicos.\n",
        "\n",
        "La cantidad de moléculas de agua que se agregan se calcula automáticamente para que la densidad sea realista (~1 g/cm³).\n",
        "\n",
        "\n",
        "Despues se extraen los componentes del objeto waterbox:\n",
        "\n",
        "**system = waterbox.system**\n",
        "*Es el objeto System de OpenMM que contiene:*\n",
        "\n",
        "* Las masas, restricciones y conexiones de las moléculas\n",
        "* Las fuerzas definidas por el campo de fuerza (interacciones de Van der Waals, electrostáticas, etc.)\n",
        "* Información necesaria para realizar la simulación\n",
        "\n",
        "**positions = waterbox.positions**\n",
        "*Son las posiciones iniciales de todos los átomos en el sistema. Las moléculas se colocan en posiciones razonables que simulan agua líquida.*\n"
      ]
    },
    {
      "cell_type": "markdown",
      "metadata": {
        "id": "0GDOcz2yaKu_"
      },
      "source": [
        "# **Visualización**"
      ]
    },
    {
      "cell_type": "markdown",
      "metadata": {
        "id": "kOS-_CwuaKrC"
      },
      "source": [
        "**4. Guardar PDB temporalmente para visualizar**"
      ]
    },
    {
      "cell_type": "code",
      "execution_count": null,
      "metadata": {
        "id": "1z3NkXGgZU_4"
      },
      "outputs": [],
      "source": [
        "# Guarda el archivo PDB a disco\n",
        "with open('waterbox.pdb', 'w') as f:\n",
        "    PDBFile.writeFile(waterbox.topology, waterbox.positions, f)\n",
        "\n",
        "# Cargar el sistema desde el PDB generado por OpenMM\n",
        "u = mda.Universe(\"waterbox.pdb\")\n",
        "\n",
        "# Envolver las moléculas en la celda\n",
        "u.atoms.wrap(inplace=True)\n",
        "\n",
        "# Guardar el sistema envuelto\n",
        "with mda.Writer(\"waterbox_wrapped.pdb\", multiframe=False) as w:\n",
        "    w.write(u.atoms)\n",
        "\n"
      ]
    },
    {
      "cell_type": "markdown",
      "metadata": {
        "id": "wNHky_bsvzIw"
      },
      "source": [
        "# **Minimización de energía**"
      ]
    },
    {
      "cell_type": "markdown",
      "metadata": {
        "id": "TdeTxBNVqQx7"
      },
      "source": [
        "**5. Minimización de energía**\n",
        "\n",
        "La minimización elimina contactos atómicos malos o solapamientos"
      ]
    },
    {
      "cell_type": "code",
      "execution_count": null,
      "metadata": {
        "id": "GdvcCZTnqZtn"
      },
      "outputs": [],
      "source": [
        "# Definir un integrador\n",
        "temperature = 300 * unit.kelvin\n",
        "friction = 1 / unit.picosecond\n",
        "step_size = 0.002 * unit.picoseconds\n",
        "integrator = LangevinIntegrator(temperature, friction, step_size)\n",
        "\n",
        "# Propiedades de la plataforma\n",
        "properties = {}\n",
        "platforms = [Platform.getPlatform(i) for i in range(Platform.getNumPlatforms())]\n",
        "platform_names = [platform.getName() for platform in platforms]\n",
        "platform = Platform.getPlatformByName('CUDA') if 'CUDA' in platform_names else Platform.getPlatformByName('Reference')\n",
        "\n",
        "simulation = Simulation(waterbox.topology, system, integrator, platform, properties)\n",
        "\n",
        "# Establecer las posiciones iniciales\n",
        "simulation.context.setPositions(positions)\n",
        "simulation.context.setVelocitiesToTemperature(temperature)"
      ]
    },
    {
      "cell_type": "code",
      "execution_count": null,
      "metadata": {
        "id": "eLAcFMrKv9Ct"
      },
      "outputs": [],
      "source": [
        "# Minimizar la energía (~11min)\n",
        "print(\"Minimizando la energía...\")\n",
        "simulation.minimizeEnergy()\n",
        "print(\"Minimización de la energía terminada.\")\n"
      ]
    },
    {
      "cell_type": "code",
      "execution_count": null,
      "metadata": {
        "id": "skJvPxb8dFRa"
      },
      "outputs": [],
      "source": [
        "# Guardar el estado del sistema después de la minimización\n",
        "with open('minimized_state.xml', 'w') as f:\n",
        "    f.write(XmlSerializer.serialize(simulation.context.getState(getPositions=True, getVelocities=True)))"
      ]
    },
    {
      "cell_type": "markdown",
      "metadata": {
        "id": "qHIUXm7Da9aa"
      },
      "source": [
        "# **Dinámica Molecular (MD)**"
      ]
    },
    {
      "cell_type": "markdown",
      "metadata": {
        "id": "fYgaIU4DqaAF"
      },
      "source": [
        "**6. Equilibración NVT (Temperatura constante)**\n",
        "\n",
        "Primero relajamos la temperatura con volumen fijo. T = 300 K. Time elapsed ~40 min"
      ]
    },
    {
      "cell_type": "code",
      "execution_count": null,
      "metadata": {
        "id": "BEbzi8qo7cBW"
      },
      "outputs": [],
      "source": [
        "# Establecer velocidades para la equilibración NVT\n",
        "n_steps_nvt = 5000\n",
        "\n",
        "# Cargar el estado minimizado\n",
        "with open('minimized_state.xml', 'r') as f:\n",
        "    state = XmlSerializer.deserialize(f.read())\n",
        "\n",
        "# Crear un nuevo Simulation object si es necesario\n",
        "#simulation = Simulation(topology, system, integrator, platform)\n",
        "simulation.context.setState(state)\n",
        "\n",
        "# Equilibración NVT\n",
        "print(\"\\nEjecutando la equilibración NVT...\")\n",
        "simulation.reporters.append(StateDataReporter(stdout, 100, step=True, potentialEnergy=True, temperature=True, density=True, progress=True, totalSteps=n_steps_nvt))\n",
        "\n",
        "# Ejecutar la equilibración NVT\n",
        "simulation.step(n_steps_nvt)"
      ]
    },
    {
      "cell_type": "code",
      "execution_count": null,
      "metadata": {
        "id": "qjhVyaiohu1Z"
      },
      "outputs": [],
      "source": [
        "# Guardar estado después de NVT\n",
        "with open('nvt_state.xml', 'w') as f:\n",
        "    f.write(XmlSerializer.serialize(simulation.context.getState(getPositions=True, getVelocities=True)))"
      ]
    },
    {
      "cell_type": "markdown",
      "metadata": {
        "id": "gDqRMWgDqmh2"
      },
      "source": [
        "**7. Equilibración NPT (Temperatura y presión constantes)**\n",
        "\n",
        "Ahora dejamos que el sistema relaje su densidad. T = 300K, P = 1 atm. ~1 hr 20 min"
      ]
    },
    {
      "cell_type": "code",
      "execution_count": null,
      "metadata": {
        "id": "4kKnDS90CmKD"
      },
      "outputs": [],
      "source": [
        "# Leer el estado después de NVT\n",
        "with open('nvt_state.xml', 'r') as f:\n",
        "    state = XmlSerializer.deserialize(f.read())\n",
        "\n",
        "# Preparar sistema NPT\n",
        "forcefield = ForceField('amber14-all.xml', 'tip4pew.xml')\n",
        "modeller = waterbox  # debe ser el mismo que usaste antes\n",
        "system = forcefield.createSystem(modeller.topology,\n",
        "                                 nonbondedMethod=PME,\n",
        "                                 nonbondedCutoff=1.0 * unit.nanometer,\n",
        "                                 constraints=HBonds)\n",
        "barostat = MonteCarloBarostat(1 * unit.atmosphere, 300 * unit.kelvin)\n",
        "system.addForce(barostat)\n",
        "\n",
        "integrator = LangevinIntegrator(300 * unit.kelvin, 1 / unit.picosecond, 0.002 * unit.picoseconds)\n",
        "simulation = Simulation(modeller.topology, system, integrator, platform, properties)\n",
        "\n",
        "# Aplicar el estado guardado\n",
        "simulation.context.setState(state)\n",
        "\n",
        "# Limpia y añade reporteros\n",
        "simulation.reporters.clear()\n",
        "n_steps_print = 1000\n",
        "n_steps_npt = 10000\n",
        "simulation.reporters.append(DCDReporter('NPTequilibration_trajectory.dcd', n_steps_print))\n",
        "simulation.reporters.append(StateDataReporter(stdout, 100, step=True, totalEnergy=True, temperature=True, density=True, progress=True, totalSteps=n_steps_npt))\n",
        "simulation.reporters.append(StateDataReporter('NPTequilibration_data.csv', 100, step=True, totalEnergy=True, temperature=True, density=True, volume=True))\n",
        "\n",
        "# Correr NPT\n",
        "print(\"\\nEjecutando la equilibración NPT...\")\n",
        "start = time.time()\n",
        "simulation.step(n_steps_npt)\n",
        "end = time.time()\n",
        "print(f\"Tiempo transcurrido: {end-start:.2f} segundos\")"
      ]
    },
    {
      "cell_type": "markdown",
      "metadata": {
        "id": "iOH77Z4wqmsR"
      },
      "source": [
        "**Guardar sistema equilibrado para reiniciar la simulacion despues**"
      ]
    },
    {
      "cell_type": "code",
      "execution_count": null,
      "metadata": {
        "id": "mRnmPRduq1UA"
      },
      "outputs": [],
      "source": [
        "# Guardar estado al final de la equilibración\n",
        "with open('equilibrated_state.chk', 'wb') as f:\n",
        "    f.write(simulation.context.createCheckpoint())"
      ]
    },
    {
      "cell_type": "markdown",
      "metadata": {
        "id": "WzmiHeGebdEf"
      },
      "source": [
        "**Analisis de propiedades termodinámicas del sistema**"
      ]
    },
    {
      "cell_type": "code",
      "execution_count": null,
      "metadata": {
        "id": "UmwPLfh2EIzC"
      },
      "outputs": [],
      "source": [
        "# Leer los datos del archivo CSV para graficar\n",
        "data = np.genfromtxt('NPTequilibration_data.csv', delimiter=',', names=True)\n",
        "print(data.dtype.names)\n",
        "\n",
        "steps = data['Step']\n",
        "\n",
        "# Graficar Energía\n",
        "plt.figure(figsize=(6,3))\n",
        "plt.plot(steps, data['Total_Energy_kJmole'], color='black', linewidth=3)\n",
        "plt.xlabel('Step', fontsize=13)\n",
        "plt.ylabel('Total Energy (kJ/mol)', fontsize=13)\n",
        "plt.ylim(-37000, 0)\n",
        "plt.grid(True)\n",
        "#plt.savefig('energy_plot.png')\n",
        "\n",
        "# Graficar Volumen\n",
        "plt.figure(figsize=(6,3))\n",
        "plt.plot(steps, data['Box_Volume_nm3'], color='lightskyblue', linewidth=3)\n",
        "plt.xlabel('Step', fontsize=13)\n",
        "plt.ylabel('Volume (units)', fontsize=13)\n",
        "plt.ylim(0,30)\n",
        "plt.grid(True)\n",
        "#plt.savefig('volume_plot.png')\n",
        "\n",
        "# Graficar Temperatura\n",
        "plt.figure(figsize=(6,3))\n",
        "plt.plot(steps, data['Temperature_K'], color='lightgreen', linewidth=3)\n",
        "plt.xlabel('Step', fontsize=13)\n",
        "plt.ylabel('Temperature (K)', fontsize=13)\n",
        "plt.ylim(0,350)\n",
        "plt.grid(True)\n",
        "#plt.savefig('temperature_plot.png')\n",
        "\n",
        "# Graficar Densidad\n",
        "plt.figure(figsize=(6,3))\n",
        "plt.plot(steps, data['Density_gmL'], color='hotpink', linewidth=3)\n",
        "plt.xlabel('Step', fontsize=13)\n",
        "plt.ylabel('Density (g/mL)', fontsize=13)\n",
        "plt.ylim(0,1.2)\n",
        "plt.grid(True)\n",
        "#plt.savefig('density_plot.png')"
      ]
    },
    {
      "cell_type": "markdown",
      "metadata": {
        "id": "0au7v2khi4p6"
      },
      "source": [
        "# **Explicación:**"
      ]
    },
    {
      "cell_type": "markdown",
      "metadata": {
        "id": "GebMppN8fxTC"
      },
      "source": [
        "**¿Qué hacen las simulaciones NVT y NPT?**\n",
        "\n",
        "*NVT (ensemble canónico):*\n",
        "\n",
        "* Número de partículas (N), volumen (V) y temperatura (T) se mantienen constantes.\n",
        "* Se usa para relajar el sistema a una temperatura deseada, sin cambiar el tamaño de la caja.\n",
        "* Aquí el volumen está fijo → la densidad no cambia.\n",
        "\n",
        "*NPT (ensemble isóbarico-isotérmico):*\n",
        "\n",
        "* Número de partículas (N), presión (P) y temperatura (T) se mantienen constantes.\n",
        "* Se usa para relajar el sistema a la presión deseada, permitiendo que la caja cambie de volumen → la densidad se ajusta.\n",
        "* Ideal para condiciones más realistas (como 1 atm, 300 K).\n",
        "\n",
        "**¿Por qué primero NVT y luego NPT?**\n",
        "1. *Control progresivo del sistema*\n",
        "Después de minimizar la energía, el sistema puede estar en un estado artificial:\n",
        "* Temperatura ≈ 0 K (porque no hay velocidades).\n",
        "* Geometría realista pero sin movimiento.\n",
        "\n",
        "**Primero usamos NVT:**\n",
        "* Para asignar velocidades y relajar las moléculas a la temperatura objetivo sin cambios en el volumen.\n",
        "* Si usaras NPT directamente, el sistema podría cambiar su volumen de forma inestable debido a fluctuaciones grandes de energía/temperatura.\n",
        "\n",
        "2. *Evitar colapsos o explosiones del sistema*\n",
        "**Ir directamente a NPT sin una fase de NVT puede causar:**\n",
        "* Cambios drásticos en volumen → densidad irreal.\n",
        "* Problemas de convergencia → átomos muy juntos o muy separados.\n",
        "\n",
        "3. *Preparar condiciones para simulaciones de producción*\n",
        "* Después del NVT, el sistema tiene la temperatura deseada.\n",
        "* Después del NPT, el sistema tiene la densidad y volumen correctos (equilibrados a la presión deseada).\n",
        "* Ahora puedes correr simulaciones de producción con confianza de que estás en condiciones realistas."
      ]
    },
    {
      "cell_type": "markdown",
      "metadata": {
        "id": "_jMEOqcpjK3e"
      },
      "source": [
        "# **Corrida de producción**"
      ]
    },
    {
      "cell_type": "markdown",
      "metadata": {
        "id": "JuVf-ovQq1Zq"
      },
      "source": [
        "**10. Corrida de producción (NPT)**\n",
        "\n",
        "Ahora hacemos la simulación principal"
      ]
    },
    {
      "cell_type": "code",
      "execution_count": null,
      "metadata": {
        "colab": {
          "background_save": true
        },
        "id": "H_OxTVN4q1fZ"
      },
      "outputs": [],
      "source": [
        "# Cargar checkpoint\n",
        "with open('equilibrated_state.chk', 'rb') as f:\n",
        "    simulation.context.loadCheckpoint(f.read())\n",
        "\n",
        "# Agregar reporteros para la corrida de producción\n",
        "simulation.reporters.clear()\n",
        "\n",
        "# Archivos de salida\n",
        "simulation.reporters.append(DCDReporter('production_trajectory.dcd', 2000))\n",
        "simulation.reporters.append(StateDataReporter(stdout, 200, step=True, totalEnergy=True, temperature=True, density=True, progress=True, totalSteps=20000))\n",
        "simulation.reporters.append(StateDataReporter('production_data.csv', 200, step=True, totalEnergy=True, temperature=True, density=True))\n",
        "\n",
        "# Ejecutar pasos de producción\n",
        "print(\"\\nIniciando simulación de producción NPT (20000 pasos)...\")\n",
        "start = time.time()\n",
        "simulation.step(20000)\n",
        "end = time.time()\n",
        "print(f\"Simulación de producción completada en {end - start:.2f} segundos.\")"
      ]
    },
    {
      "cell_type": "code",
      "execution_count": null,
      "metadata": {
        "id": "jWOdEVboWQ8R"
      },
      "outputs": [],
      "source": [
        "# Guardar estado como checkpoint binario\n",
        "with open('final_production_state.chk', 'wb') as f:\n",
        "    f.write(simulation.context.createCheckpoint())\n",
        "\n",
        "# Guardar posiciones finales como archivo .pdb\n",
        "state = simulation.context.getState(getPositions=True)\n",
        "with open('final_production_structure.pdb', 'w') as f:\n",
        "    PDBFile.writeFile(simulation.topology, state.getPositions(), f)\n",
        "\n",
        "# Guardar estado completo (opcional, pero útil para reproducibilidad)\n",
        "with open('final_production_state.xml', 'w') as f:\n",
        "    f.write(XmlSerializer.serialize(state))\n",
        "\n",
        "print(\"Archivos guardados:\")\n",
        "print(\"- final_production_state.chk (para continuar simulación)\")\n",
        "print(\"- final_production_structure.pdb (para análisis/visualización)\")\n",
        "print(\"- final_production_state.xml (opcional, estado legible)\")"
      ]
    },
    {
      "cell_type": "code",
      "execution_count": null,
      "metadata": {
        "id": "Oa_n6MKeIPo7"
      },
      "outputs": [],
      "source": [
        "import matplotlib.pyplot as plt\n",
        "import numpy as np\n",
        "\n",
        "# Leer los datos del archivo CSV para graficar\n",
        "csv_filename = 'production_data.csv'\n",
        "data = np.genfromtxt(csv_filename, delimiter=',', names=True)\n",
        "print(data.dtype.names)\n",
        "\n",
        "steps = data['Step']\n",
        "\n",
        "# Graficar Energía\n",
        "plt.figure(figsize=(6,3))\n",
        "plt.plot(steps, data['Total_Energy_kJmole'], color='black', linewidth=3)\n",
        "plt.xlabel('Step', fontsize=13)\n",
        "plt.ylabel('Energy (kJ/mol)', fontsize=13)\n",
        "plt.ylim(-37000, 0)\n",
        "plt.grid(True)\n",
        "#plt.savefig('energy_plot.png')\n",
        "\n",
        "# Graficar Temperatura\n",
        "plt.figure(figsize=(6,3))\n",
        "plt.plot(steps, data['Temperature_K'], color='yellow', linewidth=3)\n",
        "plt.xlabel('Step', fontsize=13)\n",
        "plt.ylabel('Temperature (K)', fontsize=13)\n",
        "plt.ylim(0,350)\n",
        "plt.grid(True)\n",
        "#plt.savefig('temperature_plot.png')\n",
        "\n",
        "# Graficar Densidad\n",
        "plt.figure(figsize=(6,3))\n",
        "plt.plot(steps, data['Density_gmL'], color='pink', linewidth=3)\n",
        "plt.xlabel('Step', fontsize=13)\n",
        "plt.ylabel('Density (g/mL)', fontsize=13)\n",
        "plt.ylim(0,1.2)\n",
        "plt.grid(True)\n",
        "#plt.savefig('density_plot.png')"
      ]
    }
  ],
  "metadata": {
    "colab": {
      "collapsed_sections": [
        "zxHlky0dyGJ8",
        "OvLDmK3lvcp3",
        "DjkNKyAmyJuS"
      ],
      "provenance": []
    },
    "kernelspec": {
      "display_name": "Python 3",
      "name": "python3"
    },
    "language_info": {
      "name": "python"
    }
  },
  "nbformat": 4,
  "nbformat_minor": 0
}